{
 "cells": [
  {
   "cell_type": "code",
   "execution_count": 1,
   "id": "945ac097-4736-4ada-b22b-0fa5f25d3d39",
   "metadata": {},
   "outputs": [
    {
     "name": "stderr",
     "output_type": "stream",
     "text": [
      "2025-03-16 14:37:23.215 \n",
      "  \u001b[33m\u001b[1mWarning:\u001b[0m to view this Streamlit app on a browser, run it with the following\n",
      "  command:\n",
      "\n",
      "    streamlit run C:\\ProgramData\\anaconda3\\Lib\\site-packages\\ipykernel_launcher.py [ARGUMENTS]\n"
     ]
    },
    {
     "name": "stdout",
     "output_type": "stream",
     "text": [
      "<class 'pandas.core.frame.DataFrame'>\n",
      "RangeIndex: 891 entries, 0 to 890\n",
      "Data columns (total 12 columns):\n",
      " #   Column       Non-Null Count  Dtype  \n",
      "---  ------       --------------  -----  \n",
      " 0   PassengerId  891 non-null    int64  \n",
      " 1   Survived     891 non-null    int64  \n",
      " 2   Pclass       891 non-null    int64  \n",
      " 3   Name         891 non-null    object \n",
      " 4   Sex          891 non-null    object \n",
      " 5   Age          714 non-null    float64\n",
      " 6   SibSp        891 non-null    int64  \n",
      " 7   Parch        891 non-null    int64  \n",
      " 8   Ticket       891 non-null    object \n",
      " 9   Fare         891 non-null    float64\n",
      " 10  Cabin        204 non-null    object \n",
      " 11  Embarked     889 non-null    object \n",
      "dtypes: float64(2), int64(5), object(5)\n",
      "memory usage: 83.7+ KB\n"
     ]
    },
    {
     "name": "stderr",
     "output_type": "stream",
     "text": [
      "C:\\Users\\Welcome\\AppData\\Local\\Temp\\ipykernel_29456\\3416255450.py:38: UserWarning: To output multiple subplots, the figure containing the passed axes is being cleared.\n",
      "  df.hist(bins=20, color='skyblue', edgecolor='black', ax=ax)\n"
     ]
    },
    {
     "data": {
      "text/plain": [
       "DeltaGenerator()"
      ]
     },
     "execution_count": 1,
     "metadata": {},
     "output_type": "execute_result"
    }
   ],
   "source": [
    "import streamlit as st\n",
    "import pandas as pd\n",
    "import matplotlib.pyplot as plt\n",
    "import seaborn as sns\n",
    "import pickle\n",
    "from sklearn.linear_model import LogisticRegression\n",
    "from sklearn.metrics import confusion_matrix, classification_report, roc_curve, roc_auc_score\n",
    "\n",
    "st.title(\"Logistic Regression Assignment\")\n",
    "\n",
    "# Load dataset\n",
    "df = pd.read_csv(r\"C:\\Users\\Welcome\\Desktop\\Titanic_train.csv\")\n",
    "st.write(df.head())\n",
    "\n",
    "# Display dataset info\n",
    "st.write(df.info())\n",
    "st.write(df.describe())\n",
    "st.write(\"Shape of dataset:\", df.shape)\n",
    "\n",
    "# Correlation heatmap\n",
    "z = df.corr(numeric_only=True)\n",
    "fig, ax = plt.subplots()\n",
    "sns.heatmap(z, annot=True, ax=ax)\n",
    "fig, ax = plt.subplots()\n",
    "st.pyplot(fig)\n",
    "\n",
    "# Drop unnecessary columns and handle missing values\n",
    "df = df.dropna()\n",
    "df = df.drop(columns=[\"Cabin\", \"Embarked\", \"Name\", \"Sex\", \"Ticket\", \"PassengerId\"])\n",
    "st.write(\"Cleaned Data Shape:\", df.shape)\n",
    "\n",
    "# Summary statistics\n",
    "summary = df.describe().T\n",
    "st.write(summary)\n",
    "\n",
    "# Histograms\n",
    "fig, ax = plt.subplots(figsize=(15, 10))\n",
    "df.hist(bins=20, color='skyblue', edgecolor='black', ax=ax)\n",
    "plt.suptitle(\"Histogram of numerical values\", fontsize=16)\n",
    "fig, ax = plt.subplots()\n",
    "st.pyplot(fig)\n",
    "\n",
    "# Pairplot\n",
    "fig = sns.pairplot(df)\n",
    "fig, ax = plt.subplots()\n",
    "st.pyplot(fig)\n",
    "\n",
    "# Define features and target variable\n",
    "X = df.drop('Survived', axis=1)\n",
    "y = df['Survived']\n",
    "\n",
    "# Train Logistic Regression model\n",
    "classifier = LogisticRegression()\n",
    "classifier.fit(X, y)\n",
    "\n",
    "# Predictions\n",
    "y_pred = classifier.predict(X)\n",
    "y_pred_df = pd.DataFrame({'actual': y, 'predicted': y_pred})\n",
    "st.write(y_pred_df.head())\n",
    "\n",
    "# Confusion Matrix\n",
    "conf_matrix = confusion_matrix(y, y_pred)\n",
    "fig, ax = plt.subplots()\n",
    "sns.heatmap(conf_matrix, annot=True, fmt='g', ax=ax)\n",
    "ax.set_xlabel('Predicted labels')\n",
    "ax.set_ylabel('True labels')\n",
    "ax.set_title('Confusion Matrix')\n",
    "ax.xaxis.set_ticklabels(['0', '1'])\n",
    "ax.yaxis.set_ticklabels(['0', '1'])\n",
    "fig, ax = plt.subplots()\n",
    "st.pyplot(fig)\n",
    "\n",
    "# ROC Curve\n",
    "fpr, tpr, thresholds = roc_curve(y, classifier.predict_proba(X)[:, 1])\n",
    "auc = roc_auc_score(y, y_pred)\n",
    "fig, ax = plt.subplots()\n",
    "ax.plot(fpr, tpr, color='red', label='Logit model (AUC = %0.2f)' % auc)\n",
    "ax.plot([0, 1], [0, 1], 'k--')\n",
    "ax.set_xlabel('False Positive Rate or [1 - True Negative Rate]')\n",
    "ax.set_ylabel('True Positive Rate')\n",
    "ax.legend()\n",
    "fig, ax = plt.subplots()\n",
    "st.pyplot(fig)\n"
   ]
  },
  {
   "cell_type": "code",
   "execution_count": null,
   "id": "30ff0431-5357-491c-931b-b5a6d4c4e09e",
   "metadata": {},
   "outputs": [],
   "source": []
  }
 ],
 "metadata": {
  "kernelspec": {
   "display_name": "Python 3 (ipykernel)",
   "language": "python",
   "name": "python3"
  },
  "language_info": {
   "codemirror_mode": {
    "name": "ipython",
    "version": 3
   },
   "file_extension": ".py",
   "mimetype": "text/x-python",
   "name": "python",
   "nbconvert_exporter": "python",
   "pygments_lexer": "ipython3",
   "version": "3.12.4"
  }
 },
 "nbformat": 4,
 "nbformat_minor": 5
}
