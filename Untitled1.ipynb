{
 "cells": [
  {
   "cell_type": "code",
   "execution_count": null,
   "id": "2fca1157-a45d-4275-8c7a-b7f150887baf",
   "metadata": {},
   "outputs": [],
   "source": [
    "import streamlit as st\n",
    "import pandas as pd\n",
    "import matplotlib.pyplot as plt\n",
    "import seaborn as sns\n",
    "\n",
    "st.title(\"Logistic Regression Assignment\")\n",
    "\n",
    "# Load dataset\n",
    "df = pd.read_csv(\"Titanic_train.csv\")\n",
    "\n",
    "st.write(\"### Shape of dataset:\", df.shape)\n",
    "\n",
    "# Display a heatmap\n",
    "st.write(\"### Correlation Heatmap\")\n",
    "fig, ax = plt.subplots(figsize=(10, 6))  # Ensure fig is defined\n",
    "sns.heatmap(df.corr(numeric_only=True), annot=True, cmap=\"coolwarm\", ax=ax)\n",
    "st.pyplot(fig)  # Display the figure\n",
    "\n",
    "# Histogram of numerical values\n",
    "st.write(\"### Histogram of Numerical Columns\")\n",
    "fig, ax = plt.subplots(figsize=(10, 6))  # Ensure fig is defined\n",
    "df.hist(bins=20, figsize=(10, 6), color=\"skyblue\", edgecolor=\"black\", ax=ax)\n",
    "st.pyplot(fig)  # Display the figure\n",
    "\n",
    "# Pairplot\n",
    "st.write(\"### Pairplot of the Data\")\n",
    "fig = sns.pairplot(df)  # sns.pairplot automatically creates a figure\n",
    "st.pyplot(fig)  # Display the figure\n",
    "\n",
    "# Confusion Matrix\n",
    "st.write(\"### Confusion Matrix\")\n",
    "from sklearn.metrics import confusion_matrix\n",
    "from sklearn.linear_model import LogisticRegression\n",
    "\n",
    "df = df.dropna()  # Drop missing values\n",
    "X = df.drop(\"Survived\", axis=1)\n",
    "y = df[\"Survived\"]\n",
    "\n",
    "classifier = LogisticRegression()\n",
    "classifier.fit(X, y)\n",
    "y_pred = classifier.predict(X)\n",
    "\n",
    "conf_matrix = confusion_matrix(y, y_pred)\n",
    "\n",
    "fig, ax = plt.subplots(figsize=(6, 4))  # Define fig before using it\n",
    "sns.heatmap(conf_matrix, annot=True, fmt=\"d\", cmap=\"Blues\", ax=ax)\n",
    "ax.set_xlabel(\"Predicted Label\")\n",
    "ax.set_ylabel(\"True Label\")\n",
    "ax.set_title(\"Confusion Matrix\")\n",
    "st.pyplot(fig)  # Display the figure\n"
   ]
  },
  {
   "cell_type": "code",
   "execution_count": null,
   "id": "085d04e7-0934-4110-978b-09cdca701d15",
   "metadata": {},
   "outputs": [],
   "source": []
  }
 ],
 "metadata": {
  "kernelspec": {
   "display_name": "Python 3 (ipykernel)",
   "language": "python",
   "name": "python3"
  },
  "language_info": {
   "codemirror_mode": {
    "name": "ipython",
    "version": 3
   },
   "file_extension": ".py",
   "mimetype": "text/x-python",
   "name": "python",
   "nbconvert_exporter": "python",
   "pygments_lexer": "ipython3",
   "version": "3.12.4"
  }
 },
 "nbformat": 4,
 "nbformat_minor": 5
}
